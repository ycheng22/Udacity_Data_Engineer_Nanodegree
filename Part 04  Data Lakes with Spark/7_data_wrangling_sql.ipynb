{
  "nbformat": 4,
  "nbformat_minor": 0,
  "metadata": {
    "kernelspec": {
      "display_name": "Python 3",
      "language": "python",
      "name": "python3"
    },
    "language_info": {
      "codemirror_mode": {
        "name": "ipython",
        "version": 3
      },
      "file_extension": ".py",
      "mimetype": "text/x-python",
      "name": "python",
      "nbconvert_exporter": "python",
      "pygments_lexer": "ipython3",
      "version": "3.6.3"
    },
    "colab": {
      "name": "7_data_wrangling-sql.ipynb",
      "provenance": [],
      "collapsed_sections": []
    }
  },
  "cells": [
    {
      "cell_type": "markdown",
      "metadata": {
        "id": "NRfZyOx4v_u4"
      },
      "source": [
        "# Spark SQL Examples\n",
        "\n",
        "Run the code cells below. This is the same code from the previous screencast."
      ]
    },
    {
      "cell_type": "code",
      "metadata": {
        "colab": {
          "base_uri": "https://localhost:8080/"
        },
        "id": "XfruFZ2OwAn1",
        "outputId": "f1611536-a931-4179-bb34-7fc96c983f0e"
      },
      "source": [
        "!pip install pyspark"
      ],
      "execution_count": 1,
      "outputs": [
        {
          "output_type": "stream",
          "text": [
            "Collecting pyspark\n",
            "\u001b[?25l  Downloading https://files.pythonhosted.org/packages/45/b0/9d6860891ab14a39d4bddf80ba26ce51c2f9dc4805e5c6978ac0472c120a/pyspark-3.1.1.tar.gz (212.3MB)\n",
            "\u001b[K     |████████████████████████████████| 212.3MB 61kB/s \n",
            "\u001b[?25hCollecting py4j==0.10.9\n",
            "\u001b[?25l  Downloading https://files.pythonhosted.org/packages/9e/b6/6a4fb90cd235dc8e265a6a2067f2a2c99f0d91787f06aca4bcf7c23f3f80/py4j-0.10.9-py2.py3-none-any.whl (198kB)\n",
            "\u001b[K     |████████████████████████████████| 204kB 34.7MB/s \n",
            "\u001b[?25hBuilding wheels for collected packages: pyspark\n",
            "  Building wheel for pyspark (setup.py) ... \u001b[?25l\u001b[?25hdone\n",
            "  Created wheel for pyspark: filename=pyspark-3.1.1-py2.py3-none-any.whl size=212767604 sha256=0ed35f6afb4fe8a58890778cf4f9c14c99a786a55db53107e0dd3f7a8fbf3695\n",
            "  Stored in directory: /root/.cache/pip/wheels/0b/90/c0/01de724414ef122bd05f056541fb6a0ecf47c7ca655f8b3c0f\n",
            "Successfully built pyspark\n",
            "Installing collected packages: py4j, pyspark\n",
            "Successfully installed py4j-0.10.9 pyspark-3.1.1\n"
          ],
          "name": "stdout"
        }
      ]
    },
    {
      "cell_type": "code",
      "metadata": {
        "colab": {
          "base_uri": "https://localhost:8080/"
        },
        "id": "ChE373qswCaw",
        "outputId": "68063e16-2a69-4a22-9f6d-552c28ab2fd8"
      },
      "source": [
        "from google.colab import drive\n",
        "drive.mount('/content/gdrive') #mount google drive to this folder\n",
        "pre_path = '/content/gdrive/MyDrive/Colab Notebooks/Spark/'"
      ],
      "execution_count": 2,
      "outputs": [
        {
          "output_type": "stream",
          "text": [
            "Mounted at /content/gdrive\n"
          ],
          "name": "stdout"
        }
      ]
    },
    {
      "cell_type": "code",
      "metadata": {
        "id": "kOIZrJpvv_vA"
      },
      "source": [
        "from pyspark.sql import SparkSession\n",
        "from pyspark.sql.functions import udf\n",
        "from pyspark.sql.types import StringType\n",
        "from pyspark.sql.types import IntegerType\n",
        "from pyspark.sql.functions import desc\n",
        "from pyspark.sql.functions import asc\n",
        "from pyspark.sql.functions import sum as Fsum\n",
        "\n",
        "import datetime\n",
        "\n",
        "import numpy as np\n",
        "import pandas as pd\n",
        "%matplotlib inline\n",
        "import matplotlib.pyplot as plt"
      ],
      "execution_count": 3,
      "outputs": []
    },
    {
      "cell_type": "code",
      "metadata": {
        "id": "5poEOeA_v_vC"
      },
      "source": [
        "spark = SparkSession \\\n",
        "    .builder \\\n",
        "    .appName(\"Data wrangling with Spark SQL\") \\\n",
        "    .getOrCreate()"
      ],
      "execution_count": 4,
      "outputs": []
    },
    {
      "cell_type": "code",
      "metadata": {
        "id": "XAC1jqtcv_vC"
      },
      "source": [
        "path = pre_path + \"data/sparkify_log_small.json\"\n",
        "user_log = spark.read.json(path)"
      ],
      "execution_count": 6,
      "outputs": []
    },
    {
      "cell_type": "code",
      "metadata": {
        "colab": {
          "base_uri": "https://localhost:8080/"
        },
        "id": "ux793qhvv_vD",
        "outputId": "008d99fd-0e72-42ba-ed61-ed651c1afc83"
      },
      "source": [
        "user_log.take(1)"
      ],
      "execution_count": 7,
      "outputs": [
        {
          "output_type": "execute_result",
          "data": {
            "text/plain": [
              "[Row(artist='Showaddywaddy', auth='Logged In', firstName='Kenneth', gender='M', itemInSession=112, lastName='Matthews', length=232.93342, level='paid', location='Charlotte-Concord-Gastonia, NC-SC', method='PUT', page='NextSong', registration=1509380319284, sessionId=5132, song='Christmas Tears Will Fall', status=200, ts=1513720872284, userAgent='\"Mozilla/5.0 (Windows NT 6.1) AppleWebKit/537.36 (KHTML, like Gecko) Chrome/36.0.1985.125 Safari/537.36\"', userId='1046')]"
            ]
          },
          "metadata": {
            "tags": []
          },
          "execution_count": 7
        }
      ]
    },
    {
      "cell_type": "code",
      "metadata": {
        "colab": {
          "base_uri": "https://localhost:8080/"
        },
        "id": "hz4Q86Q3v_vE",
        "outputId": "970cfdb0-d917-48ac-85c2-032b87d3f9c7"
      },
      "source": [
        "user_log.printSchema()"
      ],
      "execution_count": 8,
      "outputs": [
        {
          "output_type": "stream",
          "text": [
            "root\n",
            " |-- artist: string (nullable = true)\n",
            " |-- auth: string (nullable = true)\n",
            " |-- firstName: string (nullable = true)\n",
            " |-- gender: string (nullable = true)\n",
            " |-- itemInSession: long (nullable = true)\n",
            " |-- lastName: string (nullable = true)\n",
            " |-- length: double (nullable = true)\n",
            " |-- level: string (nullable = true)\n",
            " |-- location: string (nullable = true)\n",
            " |-- method: string (nullable = true)\n",
            " |-- page: string (nullable = true)\n",
            " |-- registration: long (nullable = true)\n",
            " |-- sessionId: long (nullable = true)\n",
            " |-- song: string (nullable = true)\n",
            " |-- status: long (nullable = true)\n",
            " |-- ts: long (nullable = true)\n",
            " |-- userAgent: string (nullable = true)\n",
            " |-- userId: string (nullable = true)\n",
            "\n"
          ],
          "name": "stdout"
        }
      ]
    },
    {
      "cell_type": "markdown",
      "metadata": {
        "id": "buJ-3Ltdv_vF"
      },
      "source": [
        "# Create a View And Run Queries\n",
        "\n",
        "The code below creates a temporary view against which you can run SQL queries."
      ]
    },
    {
      "cell_type": "code",
      "metadata": {
        "id": "jL1sMcMMv_vG"
      },
      "source": [
        "user_log.createOrReplaceTempView(\"user_log_table\")"
      ],
      "execution_count": 9,
      "outputs": []
    },
    {
      "cell_type": "code",
      "metadata": {
        "colab": {
          "base_uri": "https://localhost:8080/"
        },
        "id": "bsxlhUeHv_vG",
        "outputId": "c0f28c9e-9aec-4e8a-eb05-70eaa8a73880"
      },
      "source": [
        "spark.sql(\"SELECT * FROM user_log_table LIMIT 2\").show()"
      ],
      "execution_count": 10,
      "outputs": [
        {
          "output_type": "stream",
          "text": [
            "+-------------+---------+---------+------+-------------+--------+---------+-----+--------------------+------+--------+-------------+---------+--------------------+------+-------------+--------------------+------+\n",
            "|       artist|     auth|firstName|gender|itemInSession|lastName|   length|level|            location|method|    page| registration|sessionId|                song|status|           ts|           userAgent|userId|\n",
            "+-------------+---------+---------+------+-------------+--------+---------+-----+--------------------+------+--------+-------------+---------+--------------------+------+-------------+--------------------+------+\n",
            "|Showaddywaddy|Logged In|  Kenneth|     M|          112|Matthews|232.93342| paid|Charlotte-Concord...|   PUT|NextSong|1509380319284|     5132|Christmas Tears W...|   200|1513720872284|\"Mozilla/5.0 (Win...|  1046|\n",
            "|   Lily Allen|Logged In|Elizabeth|     F|            7|   Chase|195.23873| free|Shreveport-Bossie...|   PUT|NextSong|1512718541284|     5027|       Cheryl Tweedy|   200|1513720878284|\"Mozilla/5.0 (Win...|  1000|\n",
            "+-------------+---------+---------+------+-------------+--------+---------+-----+--------------------+------+--------+-------------+---------+--------------------+------+-------------+--------------------+------+\n",
            "\n"
          ],
          "name": "stdout"
        }
      ]
    },
    {
      "cell_type": "code",
      "metadata": {
        "colab": {
          "base_uri": "https://localhost:8080/"
        },
        "id": "hfr-iL-Mv_vG",
        "outputId": "dbd23366-4483-4f0f-bc9d-e1f8a805b9f1"
      },
      "source": [
        "spark.sql('''\n",
        "          SELECT * \n",
        "          FROM user_log_table \n",
        "          LIMIT 2\n",
        "          '''\n",
        "          ).show()"
      ],
      "execution_count": 11,
      "outputs": [
        {
          "output_type": "stream",
          "text": [
            "+-------------+---------+---------+------+-------------+--------+---------+-----+--------------------+------+--------+-------------+---------+--------------------+------+-------------+--------------------+------+\n",
            "|       artist|     auth|firstName|gender|itemInSession|lastName|   length|level|            location|method|    page| registration|sessionId|                song|status|           ts|           userAgent|userId|\n",
            "+-------------+---------+---------+------+-------------+--------+---------+-----+--------------------+------+--------+-------------+---------+--------------------+------+-------------+--------------------+------+\n",
            "|Showaddywaddy|Logged In|  Kenneth|     M|          112|Matthews|232.93342| paid|Charlotte-Concord...|   PUT|NextSong|1509380319284|     5132|Christmas Tears W...|   200|1513720872284|\"Mozilla/5.0 (Win...|  1046|\n",
            "|   Lily Allen|Logged In|Elizabeth|     F|            7|   Chase|195.23873| free|Shreveport-Bossie...|   PUT|NextSong|1512718541284|     5027|       Cheryl Tweedy|   200|1513720878284|\"Mozilla/5.0 (Win...|  1000|\n",
            "+-------------+---------+---------+------+-------------+--------+---------+-----+--------------------+------+--------+-------------+---------+--------------------+------+-------------+--------------------+------+\n",
            "\n"
          ],
          "name": "stdout"
        }
      ]
    },
    {
      "cell_type": "code",
      "metadata": {
        "colab": {
          "base_uri": "https://localhost:8080/"
        },
        "id": "f72hMnWEv_vH",
        "outputId": "736fa0c9-2c1e-4ddf-e95d-64a54dda4977"
      },
      "source": [
        "spark.sql('''\n",
        "          SELECT COUNT(*) \n",
        "          FROM user_log_table \n",
        "          '''\n",
        "          ).show()"
      ],
      "execution_count": 12,
      "outputs": [
        {
          "output_type": "stream",
          "text": [
            "+--------+\n",
            "|count(1)|\n",
            "+--------+\n",
            "|   10000|\n",
            "+--------+\n",
            "\n"
          ],
          "name": "stdout"
        }
      ]
    },
    {
      "cell_type": "code",
      "metadata": {
        "scrolled": true,
        "colab": {
          "base_uri": "https://localhost:8080/"
        },
        "id": "92ygfPyCv_vH",
        "outputId": "502c5da6-68d7-4377-a8a9-2bb536b9792c"
      },
      "source": [
        "spark.sql('''\n",
        "          SELECT userID, firstname, page, song\n",
        "          FROM user_log_table \n",
        "          WHERE userID == '1046'\n",
        "          '''\n",
        "          ).collect()"
      ],
      "execution_count": 13,
      "outputs": [
        {
          "output_type": "execute_result",
          "data": {
            "text/plain": [
              "[Row(userID='1046', firstname='Kenneth', page='NextSong', song='Christmas Tears Will Fall'),\n",
              " Row(userID='1046', firstname='Kenneth', page='NextSong', song='Be Wary Of A Woman'),\n",
              " Row(userID='1046', firstname='Kenneth', page='NextSong', song='Public Enemy No.1'),\n",
              " Row(userID='1046', firstname='Kenneth', page='NextSong', song='Reign Of The Tyrants'),\n",
              " Row(userID='1046', firstname='Kenneth', page='NextSong', song='Father And Son'),\n",
              " Row(userID='1046', firstname='Kenneth', page='NextSong', song='No. 5'),\n",
              " Row(userID='1046', firstname='Kenneth', page='NextSong', song='Seventeen'),\n",
              " Row(userID='1046', firstname='Kenneth', page='Home', song=None),\n",
              " Row(userID='1046', firstname='Kenneth', page='NextSong', song='War on war'),\n",
              " Row(userID='1046', firstname='Kenneth', page='NextSong', song='Killermont Street'),\n",
              " Row(userID='1046', firstname='Kenneth', page='NextSong', song='Black & Blue'),\n",
              " Row(userID='1046', firstname='Kenneth', page='Logout', song=None),\n",
              " Row(userID='1046', firstname='Kenneth', page='Home', song=None),\n",
              " Row(userID='1046', firstname='Kenneth', page='NextSong', song='Heads Will Roll'),\n",
              " Row(userID='1046', firstname='Kenneth', page='NextSong', song='Bleed It Out [Live At Milton Keynes]'),\n",
              " Row(userID='1046', firstname='Kenneth', page='NextSong', song='Clocks'),\n",
              " Row(userID='1046', firstname='Kenneth', page='NextSong', song='Love Rain'),\n",
              " Row(userID='1046', firstname='Kenneth', page='NextSong', song=\"Ry Ry's Song (Album Version)\"),\n",
              " Row(userID='1046', firstname='Kenneth', page='NextSong', song='The Invisible Man'),\n",
              " Row(userID='1046', firstname='Kenneth', page='NextSong', song='Catch You Baby (Steve Pitron & Max Sanna Radio Edit)'),\n",
              " Row(userID='1046', firstname='Kenneth', page='NextSong', song='Ask The Mountains'),\n",
              " Row(userID='1046', firstname='Kenneth', page='NextSong', song='Given Up (Album Version)'),\n",
              " Row(userID='1046', firstname='Kenneth', page='NextSong', song='El Cuatrero'),\n",
              " Row(userID='1046', firstname='Kenneth', page='NextSong', song='Hero/Heroine'),\n",
              " Row(userID='1046', firstname='Kenneth', page='NextSong', song='Spring'),\n",
              " Row(userID='1046', firstname='Kenneth', page='NextSong', song='Rising Moon'),\n",
              " Row(userID='1046', firstname='Kenneth', page='NextSong', song='Tough Little Boys'),\n",
              " Row(userID='1046', firstname='Kenneth', page='NextSong', song=\"Qu'Est-Ce Que T'Es Belle\"),\n",
              " Row(userID='1046', firstname='Kenneth', page='NextSong', song='Secrets'),\n",
              " Row(userID='1046', firstname='Kenneth', page='NextSong', song='Under The Gun')]"
            ]
          },
          "metadata": {
            "tags": []
          },
          "execution_count": 13
        }
      ]
    },
    {
      "cell_type": "code",
      "metadata": {
        "colab": {
          "base_uri": "https://localhost:8080/"
        },
        "id": "U7kYorMLv_vI",
        "outputId": "0f322676-3da9-4347-ae18-9f67954a261d"
      },
      "source": [
        "spark.sql('''\n",
        "          SELECT DISTINCT page\n",
        "          FROM user_log_table \n",
        "          ORDER BY page ASC\n",
        "          '''\n",
        "          ).show()"
      ],
      "execution_count": 14,
      "outputs": [
        {
          "output_type": "stream",
          "text": [
            "+----------------+\n",
            "|            page|\n",
            "+----------------+\n",
            "|           About|\n",
            "|       Downgrade|\n",
            "|           Error|\n",
            "|            Help|\n",
            "|            Home|\n",
            "|           Login|\n",
            "|          Logout|\n",
            "|        NextSong|\n",
            "|   Save Settings|\n",
            "|        Settings|\n",
            "|Submit Downgrade|\n",
            "|  Submit Upgrade|\n",
            "|         Upgrade|\n",
            "+----------------+\n",
            "\n"
          ],
          "name": "stdout"
        }
      ]
    },
    {
      "cell_type": "markdown",
      "metadata": {
        "id": "7__AH-Asv_vI"
      },
      "source": [
        "# User Defined Functions"
      ]
    },
    {
      "cell_type": "code",
      "metadata": {
        "colab": {
          "base_uri": "https://localhost:8080/"
        },
        "id": "vId0PIAWv_vI",
        "outputId": "f160d5cd-20ae-4d2b-adb3-d1bcb0fbe544"
      },
      "source": [
        "spark.udf.register(\"get_hour\", lambda x: int(datetime.datetime.fromtimestamp(x / 1000.0).hour))"
      ],
      "execution_count": 15,
      "outputs": [
        {
          "output_type": "execute_result",
          "data": {
            "text/plain": [
              "<function __main__.<lambda>>"
            ]
          },
          "metadata": {
            "tags": []
          },
          "execution_count": 15
        }
      ]
    },
    {
      "cell_type": "code",
      "metadata": {
        "colab": {
          "base_uri": "https://localhost:8080/"
        },
        "id": "KDRPuJkrv_vI",
        "outputId": "9b6da431-855f-4936-e025-08552eea267c"
      },
      "source": [
        "spark.sql('''\n",
        "          SELECT *, get_hour(ts) AS hour\n",
        "          FROM user_log_table \n",
        "          LIMIT 1\n",
        "          '''\n",
        "          ).collect()"
      ],
      "execution_count": 16,
      "outputs": [
        {
          "output_type": "execute_result",
          "data": {
            "text/plain": [
              "[Row(artist='Showaddywaddy', auth='Logged In', firstName='Kenneth', gender='M', itemInSession=112, lastName='Matthews', length=232.93342, level='paid', location='Charlotte-Concord-Gastonia, NC-SC', method='PUT', page='NextSong', registration=1509380319284, sessionId=5132, song='Christmas Tears Will Fall', status=200, ts=1513720872284, userAgent='\"Mozilla/5.0 (Windows NT 6.1) AppleWebKit/537.36 (KHTML, like Gecko) Chrome/36.0.1985.125 Safari/537.36\"', userId='1046', hour='22')]"
            ]
          },
          "metadata": {
            "tags": []
          },
          "execution_count": 16
        }
      ]
    },
    {
      "cell_type": "code",
      "metadata": {
        "id": "EDj4isyNv_vJ"
      },
      "source": [
        "songs_in_hour = spark.sql('''\n",
        "          SELECT get_hour(ts) AS hour, COUNT(*) as plays_per_hour\n",
        "          FROM user_log_table\n",
        "          WHERE page = \"NextSong\"\n",
        "          GROUP BY hour\n",
        "          ORDER BY cast(hour as int) ASC\n",
        "          '''\n",
        "          )"
      ],
      "execution_count": 17,
      "outputs": []
    },
    {
      "cell_type": "code",
      "metadata": {
        "colab": {
          "base_uri": "https://localhost:8080/"
        },
        "id": "QZnokwd0v_vJ",
        "outputId": "c725188e-7aa3-42ae-ea4f-7ca14ad2af8e"
      },
      "source": [
        "songs_in_hour.show()"
      ],
      "execution_count": 18,
      "outputs": [
        {
          "output_type": "stream",
          "text": [
            "+----+--------------+\n",
            "|hour|plays_per_hour|\n",
            "+----+--------------+\n",
            "|   0|           456|\n",
            "|   1|           454|\n",
            "|   2|           382|\n",
            "|   3|           302|\n",
            "|   4|           352|\n",
            "|   5|           276|\n",
            "|   6|           348|\n",
            "|   7|           358|\n",
            "|   8|           375|\n",
            "|   9|           249|\n",
            "|  10|           216|\n",
            "|  11|           228|\n",
            "|  12|           251|\n",
            "|  13|           339|\n",
            "|  14|           462|\n",
            "|  15|           479|\n",
            "|  16|           484|\n",
            "|  17|           430|\n",
            "|  18|           362|\n",
            "|  19|           295|\n",
            "+----+--------------+\n",
            "only showing top 20 rows\n",
            "\n"
          ],
          "name": "stdout"
        }
      ]
    },
    {
      "cell_type": "markdown",
      "metadata": {
        "id": "Nh2g1392v_vJ"
      },
      "source": [
        "# Converting Results to Pandas"
      ]
    },
    {
      "cell_type": "code",
      "metadata": {
        "id": "kwoHJcZxv_vK"
      },
      "source": [
        "songs_in_hour_pd = songs_in_hour.toPandas()"
      ],
      "execution_count": 19,
      "outputs": []
    },
    {
      "cell_type": "code",
      "metadata": {
        "colab": {
          "base_uri": "https://localhost:8080/"
        },
        "id": "u75YeBjcv_vK",
        "outputId": "be70b89a-b424-4534-acb3-b950085bd2c3"
      },
      "source": [
        "print(songs_in_hour_pd)"
      ],
      "execution_count": 20,
      "outputs": [
        {
          "output_type": "stream",
          "text": [
            "   hour  plays_per_hour\n",
            "0     0             456\n",
            "1     1             454\n",
            "2     2             382\n",
            "3     3             302\n",
            "4     4             352\n",
            "5     5             276\n",
            "6     6             348\n",
            "7     7             358\n",
            "8     8             375\n",
            "9     9             249\n",
            "10   10             216\n",
            "11   11             228\n",
            "12   12             251\n",
            "13   13             339\n",
            "14   14             462\n",
            "15   15             479\n",
            "16   16             484\n",
            "17   17             430\n",
            "18   18             362\n",
            "19   19             295\n",
            "20   20             257\n",
            "21   21             248\n",
            "22   22             369\n",
            "23   23             375\n"
          ],
          "name": "stdout"
        }
      ]
    }
  ]
}